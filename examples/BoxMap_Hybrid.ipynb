{
 "cells": [
  {
   "cell_type": "code",
   "execution_count": 1,
   "metadata": {
    "id": "Yd2azT2Xrgze"
   },
   "outputs": [],
   "source": [
    "import CMGDB\n",
    "\n",
    "import matplotlib.pyplot as plt\n",
    "import numpy as np\n",
    "import time\n",
    "import sys\n",
    "import os\n",
    "from scipy.integrate import solve_ivp"
   ]
  },
  {
   "cell_type": "markdown",
   "metadata": {},
   "source": [
    "# 4D map example"
   ]
  },
  {
   "cell_type": "markdown",
   "metadata": {},
   "source": [
    "Define a map, a domain, and sample points to evaluate the map"
   ]
  },
  {
   "cell_type": "code",
   "execution_count": 2,
   "metadata": {},
   "outputs": [],
   "source": [
    "def ode_func(t, state):\n",
    "    \"\"\"\n",
    "    Compute the dynamics of the 3D LIP model\n",
    "    \n",
    "    Parameters:\n",
    "    -----------\n",
    "    t : float\n",
    "        Time variable\n",
    "    state : array-like\n",
    "        Current state [x, y, x_dot, y_dot]\n",
    "        \n",
    "    Returns:\n",
    "    --------\n",
    "    array-like\n",
    "        State derivatives [x_dot, y_dot, x_ddot, y_ddot]\n",
    "    \"\"\"\n",
    "    x, y, x_dot, y_dot = state\n",
    "\n",
    "    g = 9.81\n",
    "    z0 = 1.0\n",
    "    omega = np.sqrt(g/z0)\n",
    "    \n",
    "    # From equations in the paper: x'' = ω²x, y'' = ω²y\n",
    "    x_ddot = omega**2 * x\n",
    "    y_ddot = omega**2 * y\n",
    "    \n",
    "    return [x_dot, y_dot, x_ddot, y_ddot]\n",
    "\n",
    "def reset_map(state):\n",
    "    \"\"\"\n",
    "    Apply the discrete reset map according to the (x0, y0)-invariant gait definition\n",
    "    \n",
    "    Parameters:\n",
    "    -----------\n",
    "    state : array-like\n",
    "        State before reset [x, y, x_dot, y_dot]\n",
    "        \n",
    "    Returns:\n",
    "    --------\n",
    "    array-like\n",
    "        State after reset [x_new, y_new, x_dot_new, y_dot_new]\n",
    "    \"\"\"\n",
    "    x, y, x_dot, y_dot = state\n",
    "    \n",
    "    # Equation (1) in the paper defines the reset map\n",
    "    return [x, -y, -x_dot, y_dot]\n",
    "\n",
    "def impact_event(r0=1.0, min_time=0.05):\n",
    "    \"\"\"\n",
    "    Define the impact event function for the 3D LIP model\n",
    "    \n",
    "    Parameters:\n",
    "    -----------\n",
    "    r0 : float\n",
    "        Radius of the impact boundary\n",
    "    min_time : float, optional\n",
    "        Minimum time before impact can be detected, default is 0.05s\n",
    "        \n",
    "    Returns:\n",
    "    --------\n",
    "    function\n",
    "        Event function for solve_ivp\n",
    "    \"\"\"\n",
    "    def event(t, state):\n",
    "        x, y, _, _ = state\n",
    "        # The switching manifold is defined as x² + y² = r0²\n",
    "        dist_from_boundary = x**2 + y**2 - r0**2\n",
    "        \n",
    "        # Only consider impacts when crossing from inside to outside\n",
    "        # and after minimum time has passed\n",
    "        if t < min_time:\n",
    "            return 1.0\n",
    "            \n",
    "        return dist_from_boundary\n",
    "    \n",
    "    # Terminal event (stop integration when triggered)\n",
    "    event.terminal = True\n",
    "    \n",
    "    # Direction: +1 means detect when function goes from negative to positive\n",
    "    # This means we detect when the COM moves from inside to outside the circle\n",
    "    event.direction = 1\n",
    "    \n",
    "    return event\n"
   ]
  },
  {
   "cell_type": "code",
   "execution_count": 3,
   "metadata": {},
   "outputs": [],
   "source": [
    "def f(x, y, x_dot, y_dot, timestep=0.4, tol=1e-6):\n",
    "    current_time = 0.0\n",
    "    current_state = [x,y,x_dot,y_dot]\n",
    "    while current_time < timestep:\n",
    "        # Determine how much time is left\n",
    "        time_left = timestep - current_time\n",
    "        # Simulate until next impact or until t_max\n",
    "        sol = solve_ivp(\n",
    "            ode_func, \n",
    "            (0, time_left), \n",
    "            current_state, \n",
    "            method='RK45', \n",
    "            events=impact_event(r0=1.0, min_time=0.05),\n",
    "            dense_output=True,\n",
    "            rtol=1e-8,  # Tighter tolerance\n",
    "            atol=1e-10,  # Tighter tolerance\n",
    "            max_step=0.1  # Limit maximum step size\n",
    "        )\n",
    "        # Check if we hit an impact\n",
    "        impact_detected = len(sol.t_events[0]) > 0\n",
    "        \n",
    "        # Update current time\n",
    "        current_time += sol.t[-1]\n",
    "        current_state = sol.y[:, -1]\n",
    "\n",
    "        if impact_detected:\n",
    "            # Get the state at impact\n",
    "            final_state = sol.y[:, -1]\n",
    "            # Apply reset map\n",
    "            current_state = reset_map(final_state)\n",
    "    return current_state"
   ]
  },
  {
   "cell_type": "code",
   "execution_count": 4,
   "metadata": {},
   "outputs": [],
   "source": [
    "dim = 4\n",
    "num_pts = 50000\n",
    "# r0 \\in (0, 1) \n",
    "# theta \\in (0, 2*pi)\n",
    "# vx \\in (-1, 1)\n",
    "# vy \\in (-1, 1)\n",
    "lower_bounds = [0.0, 0, -3.0, -3.0]\n",
    "upper_bounds = [1.0, 2*np.pi, 3.0, 3.0]\n",
    "\n",
    "sample_points = np.random.uniform(lower_bounds, upper_bounds, size=(num_pts, dim))\n",
    "\n",
    "X = np.array([[x[0]*np.cos(x[1]), x[0]*np.sin(x[1]), x[2], x[3]] for x in sample_points])\n",
    "\n",
    "Y = np.array([f(x[0], x[1], x[2], x[3]) for x in X])"
   ]
  },
  {
   "cell_type": "code",
   "execution_count": 5,
   "metadata": {},
   "outputs": [
    {
     "data": {
      "image/png": "[encoded data removed]",
      "text/plain": [
       "<Figure size 640x480 with 1 Axes>"
      ]
     },
     "metadata": {},
     "output_type": "display_data"
    }
   ],
   "source": [
    "# Plot data\n",
    "plt.plot(X[:,0], X[:,1], 'ro', Y[:,0], Y[:,1], 'b*')\n",
    "plt.xlim([-1.5,1.5])\n",
    "plt.ylim([-1.5,1.5])\n",
    "plt.show()"
   ]
  },
  {
   "cell_type": "markdown",
   "metadata": {},
   "source": [
    "# Define a box map from data"
   ]
  },
  {
   "cell_type": "markdown",
   "metadata": {},
   "source": [
    "BY default the box map interpolates empty boxes."
   ]
  },
  {
   "cell_type": "code",
   "execution_count": 6,
   "metadata": {},
   "outputs": [],
   "source": [
    "lower_bounds = [-1.0, -1.0, -3.0, -3.0]\n",
    "upper_bounds = [1.0, 1.0, 3.0, 3.0]\n",
    "\n",
    "F = CMGDB.BoxMapData(X, Y, map_empty='outside', lower_bounds=lower_bounds, upper_bounds=upper_bounds)"
   ]
  },
  {
   "cell_type": "markdown",
   "metadata": {},
   "source": [
    "Use the box map above to compyte the Morse graph"
   ]
  },
  {
   "cell_type": "code",
   "execution_count": 7,
   "metadata": {},
   "outputs": [],
   "source": [
    "subdiv_min = 2**4\n",
    "subdiv_max = 2**4\n",
    "\n",
    "subdiv_init = 4\n",
    "subdiv_limit = 10000\n",
    "\n",
    "model = CMGDB.Model(subdiv_min, subdiv_max, subdiv_init, subdiv_limit, lower_bounds, upper_bounds, F)"
   ]
  },
  {
   "cell_type": "code",
   "execution_count": 8,
   "metadata": {},
   "outputs": [
    {
     "name": "stdout",
     "output_type": "stream",
     "text": [
      "Compute_Morse_Graph. Initializing root MorseDecomposition\n",
      "Compute_Morse_Graph. A phase_space -> size () == 16\n",
      "CPU times: user 10min 19s, sys: 5.91 s, total: 10min 25sCompute_Morse_Graph. B phase_space -> size () == 47051\n",
      "Total Grid Memory (can be external) = 3916876\n",
      "Max Memory For Single Grid (must be internal)= 1759130\n",
      "Max SCC Random Access memory use (must be internal)= 341496\n",
      "Max SCC stack memory use (can be external memory) = 1083208\n",
      " ---- SUMMARY ---- \n",
      "Internal Memory Requirement = 2100626\n",
      "External Memory Requirement = 5000084\n",
      "Max graph memory size (never stored, however) = 2109532784\n",
      "\n",
      "Wall time: 10min 33s\n"
     ]
    }
   ],
   "source": [
    "%%time\n",
    "morse_graph, map_graph = CMGDB.ComputeMorseGraph(model)"
   ]
  },
  {
   "cell_type": "code",
   "execution_count": 9,
   "metadata": {},
   "outputs": [
    {
     "data": {
      "image/svg+xml": [
       "<?xml version=\"1.0\" encoding=\"UTF-8\" standalone=\"no\"?>\n",
       "<!DOCTYPE svg PUBLIC \"-//W3C//DTD SVG 1.1//EN\"\n",
       " \"http://www.w3.org/Graphics/SVG/1.1/DTD/svg11.dtd\">\n",
       "<!-- Generated by graphviz version 12.2.1 (20241206.2353)\n",
       " -->\n",
       "<!-- Pages: 1 -->\n",
       "<svg width=\"62pt\" height=\"116pt\"\n",
       " viewBox=\"0.00 0.00 62.00 116.00\" xmlns=\"http://www.w3.org/2000/svg\" xmlns:xlink=\"http://www.w3.org/1999/xlink\">\n",
       "<g id=\"graph0\" class=\"graph\" transform=\"scale(1 1) rotate(0) translate(4 112)\">\n",
       "<polygon fill=\"white\" stroke=\"none\" points=\"-4,4 -4,-112 58,-112 58,4 -4,4\"/>\n",
       "<!-- 0 -->\n",
       "<g id=\"node1\" class=\"node\">\n",
       "<title>0</title>\n",
       "<ellipse fill=\"#1f77b4\" stroke=\"black\" cx=\"27\" cy=\"-18\" rx=\"27\" ry=\"18\"/>\n",
       "<text text-anchor=\"middle\" x=\"27\" y=\"-12.95\" font-family=\"Times,serif\" font-size=\"14.00\">0</text>\n",
       "</g>\n",
       "<!-- 1 -->\n",
       "<g id=\"node2\" class=\"node\">\n",
       "<title>1</title>\n",
       "<ellipse fill=\"#9edae5\" stroke=\"black\" cx=\"27\" cy=\"-90\" rx=\"27\" ry=\"18\"/>\n",
       "<text text-anchor=\"middle\" x=\"27\" y=\"-84.95\" font-family=\"Times,serif\" font-size=\"14.00\">1</text>\n",
       "</g>\n",
       "<!-- 1&#45;&gt;0 -->\n",
       "<g id=\"edge1\" class=\"edge\">\n",
       "<title>1&#45;&gt;0</title>\n",
       "<path fill=\"none\" stroke=\"black\" d=\"M27,-71.7C27,-64.41 27,-55.73 27,-47.54\"/>\n",
       "<polygon fill=\"black\" stroke=\"black\" points=\"30.5,-47.62 27,-37.62 23.5,-47.62 30.5,-47.62\"/>\n",
       "</g>\n",
       "</g>\n",
       "</svg>\n"
      ],
      "text/plain": [
       "<graphviz.sources.Source at 0x12761bc10>"
      ]
     },
     "execution_count": 9,
     "metadata": {},
     "output_type": "execute_result"
    }
   ],
   "source": [
    "CMGDB.PlotMorseGraph(morse_graph)"
   ]
  },
  {
   "cell_type": "code",
   "execution_count": 10,
   "metadata": {},
   "outputs": [
    {
     "data": {
      "image/png": "[encoded data removed]",
      "text/plain": [
       "<Figure size 500x500 with 1 Axes>"
      ]
     },
     "metadata": {},
     "output_type": "display_data"
    },
    {
     "ename": "",
     "evalue": "",
     "output_type": "error",
     "traceback": [
      "\u001b[1;31mThe Kernel crashed while executing code in the current cell or a previous cell. \n",
      "\u001b[1;31mPlease review the code in the cell(s) to identify a possible cause of the failure. \n",
      "\u001b[1;31mClick <a href='https://aka.ms/vscodeJupyterKernelCrash'>here</a> for more info. \n",
      "\u001b[1;31mView Jupyter <a href='command:jupyter.viewOutput'>log</a> for further details."
     ]
    }
   ],
   "source": [
    "CMGDB.PlotMorseSets(morse_graph, fig_w=5, fig_h=5,ylim=[-1.5,1.5],xlim=[-1.5,1.5])"
   ]
  },
  {
   "cell_type": "code",
   "execution_count": null,
   "metadata": {},
   "outputs": [
    {
     "data": {
      "image/png": "[encoded data removed]",
      "text/plain": [
       "<Figure size 500x500 with 1 Axes>"
      ]
     },
     "metadata": {},
     "output_type": "display_data"
    }
   ],
   "source": [
    "CMGDB.PlotMorseSets(morse_graph, fig_w=5, fig_h=5,morse_nodes=list(range(11)),ylim=[-1.5,1.5],xlim=[-1.5,1.5])"
   ]
  },
  {
   "cell_type": "code",
   "execution_count": null,
   "metadata": {},
   "outputs": [
    {
     "data": {
      "image/png": "[encoded data removed]",
      "text/plain": [
       "<Figure size 500x500 with 1 Axes>"
      ]
     },
     "metadata": {},
     "output_type": "display_data"
    }
   ],
   "source": [
    "CMGDB.PlotMorseSets(morse_graph, fig_w=5, fig_h=5,morse_nodes=[6],ylim=[-1.5,1.5],xlim=[-1.5,1.5])"
   ]
  },
  {
   "cell_type": "code",
   "execution_count": null,
   "metadata": {},
   "outputs": [],
   "source": [
    "# CMGDB.PlotMorseSets(morse_graph, fig_w=5, fig_h=5,morse_nodes=[6],ylim=[-3,3],xlim=[-3,3],proj_dims=[2,3])"
   ]
  },
  {
   "cell_type": "markdown",
   "metadata": {},
   "source": [
    "More refined"
   ]
  },
  {
   "cell_type": "code",
   "execution_count": 98,
   "metadata": {},
   "outputs": [],
   "source": [
    "subdiv_min = 3**4\n",
    "subdiv_max = 3**4\n",
    "\n",
    "subdiv_init = 4\n",
    "subdiv_limit = 10000\n",
    "\n",
    "model = CMGDB.Model(subdiv_min, subdiv_max, subdiv_init, subdiv_limit, lower_bounds, upper_bounds, F)\n"
   ]
  },
  {
   "cell_type": "code",
   "execution_count": null,
   "metadata": {},
   "outputs": [
    {
     "name": "stdout",
     "output_type": "stream",
     "text": [
      "Compute_Morse_Graph. Initializing root MorseDecomposition\n",
      "Compute_Morse_Graph. A phase_space -> size () == 16\n",
      "CPU times: user 35.4 s, sys: 1.05 s, total: 36.5 sCompute_Morse_Graph. B phase_space -> size () == 10627\n",
      "\n",
      "Wall time: 39.8 s\n",
      "Total Grid Memory (can be external) = 12323584\n",
      "Max Memory For Single Grid (must be internal)= 887342\n",
      "Max SCC Random Access memory use (must be internal)= 123097\n",
      "Max SCC stack memory use (can be external memory) = 347248\n",
      " ---- SUMMARY ---- \n",
      "Internal Memory Requirement = 1010439\n",
      "External Memory Requirement = 12670832\n",
      "Max graph memory size (never stored, however) = 148174520\n"
     ]
    }
   ],
   "source": [
    "%%time\n",
    "morse_graph, map_graph = CMGDB.ComputeMorseGraph(model)"
   ]
  },
  {
   "cell_type": "code",
   "execution_count": null,
   "metadata": {},
   "outputs": [
    {
     "data": {
      "image/svg+xml": [
       "<?xml version=\"1.0\" encoding=\"UTF-8\" standalone=\"no\"?>\n",
       "<!DOCTYPE svg PUBLIC \"-//W3C//DTD SVG 1.1//EN\"\n",
       " \"http://www.w3.org/Graphics/SVG/1.1/DTD/svg11.dtd\">\n",
       "<!-- Generated by graphviz version 12.2.1 (20241206.2353)\n",
       " -->\n",
       "<!-- Pages: 1 -->\n",
       "<svg width=\"8pt\" height=\"8pt\"\n",
       " viewBox=\"0.00 0.00 8.00 8.00\" xmlns=\"http://www.w3.org/2000/svg\" xmlns:xlink=\"http://www.w3.org/1999/xlink\">\n",
       "<g id=\"graph0\" class=\"graph\" transform=\"scale(1 1) rotate(0) translate(4 4)\">\n",
       "<polygon fill=\"white\" stroke=\"none\" points=\"-4,4 -4,-4 4,-4 4,4 -4,4\"/>\n",
       "</g>\n",
       "</svg>\n"
      ],
      "text/plain": [
       "<graphviz.sources.Source at 0x123a599a0>"
      ]
     },
     "execution_count": 102,
     "metadata": {},
     "output_type": "execute_result"
    }
   ],
   "source": [
    "CMGDB.PlotMorseGraph(morse_graph)"
   ]
  },
  {
   "cell_type": "code",
   "execution_count": 101,
   "metadata": {},
   "outputs": [
    {
     "ename": "IndexError",
     "evalue": "list index out of range",
     "output_type": "error",
     "traceback": [
      "\u001b[0;31m---------------------------------------------------------------------------\u001b[0m",
      "\u001b[0;31mIndexError\u001b[0m                                Traceback (most recent call last)",
      "Cell \u001b[0;32mIn[101], line 1\u001b[0m\n\u001b[0;32m----> 1\u001b[0m \u001b[43mCMGDB\u001b[49m\u001b[38;5;241;43m.\u001b[39;49m\u001b[43mPlotMorseSets\u001b[49m\u001b[43m(\u001b[49m\u001b[43mmorse_graph\u001b[49m\u001b[43m,\u001b[49m\u001b[43m \u001b[49m\u001b[43mfig_w\u001b[49m\u001b[38;5;241;43m=\u001b[39;49m\u001b[38;5;241;43m5\u001b[39;49m\u001b[43m,\u001b[49m\u001b[43m \u001b[49m\u001b[43mfig_h\u001b[49m\u001b[38;5;241;43m=\u001b[39;49m\u001b[38;5;241;43m5\u001b[39;49m\u001b[43m,\u001b[49m\u001b[43mylim\u001b[49m\u001b[38;5;241;43m=\u001b[39;49m\u001b[43m[\u001b[49m\u001b[38;5;241;43m-\u001b[39;49m\u001b[38;5;241;43m1.5\u001b[39;49m\u001b[43m,\u001b[49m\u001b[38;5;241;43m1.5\u001b[39;49m\u001b[43m]\u001b[49m\u001b[43m,\u001b[49m\u001b[43mxlim\u001b[49m\u001b[38;5;241;43m=\u001b[39;49m\u001b[43m[\u001b[49m\u001b[38;5;241;43m-\u001b[39;49m\u001b[38;5;241;43m1.5\u001b[39;49m\u001b[43m,\u001b[49m\u001b[38;5;241;43m1.5\u001b[39;49m\u001b[43m]\u001b[49m\u001b[43m)\u001b[49m\n",
      "File \u001b[0;32m/usr/local/lib/python3.9/site-packages/CMGDB/PlotMorseSets.py:28\u001b[0m, in \u001b[0;36mPlotMorseSets\u001b[0;34m(morse_sets, morse_nodes, proj_dims, cmap, clist, fig_w, fig_h, xlim, ylim, axis_labels, xlabel, ylabel, fontsize, fig_fname, dpi)\u001b[0m\n\u001b[1;32m     26\u001b[0m     num_morse_sets \u001b[38;5;241m=\u001b[39m \u001b[38;5;28;01mNone\u001b[39;00m\n\u001b[1;32m     27\u001b[0m \u001b[38;5;66;03m# Plot Morse set boxes as a scatter plot\u001b[39;00m\n\u001b[0;32m---> 28\u001b[0m \u001b[43mPlotBoxesScatter\u001b[49m\u001b[43m(\u001b[49m\u001b[43mmorse_sets\u001b[49m\u001b[43m,\u001b[49m\u001b[43m \u001b[49m\u001b[43mnum_morse_sets\u001b[49m\u001b[38;5;241;43m=\u001b[39;49m\u001b[43mnum_morse_sets\u001b[49m\u001b[43m,\u001b[49m\u001b[43m \u001b[49m\u001b[43mmorse_nodes\u001b[49m\u001b[38;5;241;43m=\u001b[39;49m\u001b[43mmorse_nodes\u001b[49m\u001b[43m,\u001b[49m\n\u001b[1;32m     29\u001b[0m \u001b[43m                 \u001b[49m\u001b[43mproj_dims\u001b[49m\u001b[38;5;241;43m=\u001b[39;49m\u001b[43mproj_dims\u001b[49m\u001b[43m,\u001b[49m\u001b[43m \u001b[49m\u001b[43mcmap\u001b[49m\u001b[38;5;241;43m=\u001b[39;49m\u001b[43mcmap\u001b[49m\u001b[43m,\u001b[49m\u001b[43m \u001b[49m\u001b[43mclist\u001b[49m\u001b[38;5;241;43m=\u001b[39;49m\u001b[43mclist\u001b[49m\u001b[43m,\u001b[49m\u001b[43m \u001b[49m\u001b[43mfig_w\u001b[49m\u001b[38;5;241;43m=\u001b[39;49m\u001b[43mfig_w\u001b[49m\u001b[43m,\u001b[49m\u001b[43m \u001b[49m\u001b[43mfig_h\u001b[49m\u001b[38;5;241;43m=\u001b[39;49m\u001b[43mfig_h\u001b[49m\u001b[43m,\u001b[49m\n\u001b[1;32m     30\u001b[0m \u001b[43m                 \u001b[49m\u001b[43mxlim\u001b[49m\u001b[38;5;241;43m=\u001b[39;49m\u001b[43mxlim\u001b[49m\u001b[43m,\u001b[49m\u001b[43m \u001b[49m\u001b[43mylim\u001b[49m\u001b[38;5;241;43m=\u001b[39;49m\u001b[43mylim\u001b[49m\u001b[43m,\u001b[49m\u001b[43m \u001b[49m\u001b[43maxis_labels\u001b[49m\u001b[38;5;241;43m=\u001b[39;49m\u001b[43maxis_labels\u001b[49m\u001b[43m,\u001b[49m\u001b[43m \u001b[49m\u001b[43mxlabel\u001b[49m\u001b[38;5;241;43m=\u001b[39;49m\u001b[43mxlabel\u001b[49m\u001b[43m,\u001b[49m\n\u001b[1;32m     31\u001b[0m \u001b[43m                 \u001b[49m\u001b[43mylabel\u001b[49m\u001b[38;5;241;43m=\u001b[39;49m\u001b[43mylabel\u001b[49m\u001b[43m,\u001b[49m\u001b[43m \u001b[49m\u001b[43mfontsize\u001b[49m\u001b[38;5;241;43m=\u001b[39;49m\u001b[43mfontsize\u001b[49m\u001b[43m,\u001b[49m\u001b[43m \u001b[49m\u001b[43mfig_fname\u001b[49m\u001b[38;5;241;43m=\u001b[39;49m\u001b[43mfig_fname\u001b[49m\u001b[43m,\u001b[49m\u001b[43m \u001b[49m\u001b[43mdpi\u001b[49m\u001b[38;5;241;43m=\u001b[39;49m\u001b[43mdpi\u001b[49m\u001b[43m)\u001b[49m\n",
      "File \u001b[0;32m/usr/local/lib/python3.9/site-packages/CMGDB/PlotMorseSets.py:38\u001b[0m, in \u001b[0;36mPlotBoxesScatter\u001b[0;34m(morse_sets, num_morse_sets, morse_nodes, proj_dims, cmap, clist, fig_w, fig_h, xlim, ylim, axis_labels, xlabel, ylabel, fontsize, fig_fname, dpi)\u001b[0m\n\u001b[1;32m     33\u001b[0m \u001b[38;5;28;01mdef\u001b[39;00m \u001b[38;5;21mPlotBoxesScatter\u001b[39m(morse_sets, num_morse_sets\u001b[38;5;241m=\u001b[39m\u001b[38;5;28;01mNone\u001b[39;00m, morse_nodes\u001b[38;5;241m=\u001b[39m\u001b[38;5;28;01mNone\u001b[39;00m, proj_dims\u001b[38;5;241m=\u001b[39m\u001b[38;5;28;01mNone\u001b[39;00m, cmap\u001b[38;5;241m=\u001b[39m\u001b[38;5;28;01mNone\u001b[39;00m,\n\u001b[1;32m     34\u001b[0m                      clist\u001b[38;5;241m=\u001b[39m\u001b[38;5;28;01mNone\u001b[39;00m, fig_w\u001b[38;5;241m=\u001b[39m\u001b[38;5;241m8\u001b[39m, fig_h\u001b[38;5;241m=\u001b[39m\u001b[38;5;241m8\u001b[39m, xlim\u001b[38;5;241m=\u001b[39m\u001b[38;5;28;01mNone\u001b[39;00m, ylim\u001b[38;5;241m=\u001b[39m\u001b[38;5;28;01mNone\u001b[39;00m, axis_labels\u001b[38;5;241m=\u001b[39m\u001b[38;5;28;01mTrue\u001b[39;00m,\n\u001b[1;32m     35\u001b[0m                      xlabel\u001b[38;5;241m=\u001b[39m\u001b[38;5;124m'\u001b[39m\u001b[38;5;124m$x$\u001b[39m\u001b[38;5;124m'\u001b[39m, ylabel\u001b[38;5;241m=\u001b[39m\u001b[38;5;124m'\u001b[39m\u001b[38;5;124m$y$\u001b[39m\u001b[38;5;124m'\u001b[39m, fontsize\u001b[38;5;241m=\u001b[39m\u001b[38;5;241m15\u001b[39m, fig_fname\u001b[38;5;241m=\u001b[39m\u001b[38;5;28;01mNone\u001b[39;00m, dpi\u001b[38;5;241m=\u001b[39m\u001b[38;5;241m300\u001b[39m):\n\u001b[1;32m     36\u001b[0m     \u001b[38;5;66;03m# Default colormap\u001b[39;00m\n\u001b[1;32m     37\u001b[0m     default_cmap \u001b[38;5;241m=\u001b[39m matplotlib\u001b[38;5;241m.\u001b[39mcm\u001b[38;5;241m.\u001b[39mtab20\n\u001b[0;32m---> 38\u001b[0m     rect \u001b[38;5;241m=\u001b[39m \u001b[43mmorse_sets\u001b[49m\u001b[43m[\u001b[49m\u001b[38;5;241;43m0\u001b[39;49m\u001b[43m]\u001b[49m\n\u001b[1;32m     39\u001b[0m     \u001b[38;5;28;01massert\u001b[39;00m \u001b[38;5;28mlen\u001b[39m(rect) \u001b[38;5;241m%\u001b[39m \u001b[38;5;241m2\u001b[39m \u001b[38;5;241m==\u001b[39m \u001b[38;5;241m1\u001b[39m, \u001b[38;5;124m\"\u001b[39m\u001b[38;5;124mWrong dimension in Morse sets data\u001b[39m\u001b[38;5;124m\"\u001b[39m\n\u001b[1;32m     40\u001b[0m     dim \u001b[38;5;241m=\u001b[39m \u001b[38;5;28mint\u001b[39m((\u001b[38;5;28mlen\u001b[39m(rect) \u001b[38;5;241m-\u001b[39m \u001b[38;5;241m1\u001b[39m) \u001b[38;5;241m/\u001b[39m \u001b[38;5;241m2\u001b[39m)\n",
      "\u001b[0;31mIndexError\u001b[0m: list index out of range"
     ]
    }
   ],
   "source": [
    "CMGDB.PlotMorseSets(morse_graph, fig_w=5, fig_h=5,ylim=[-1.5,1.5],xlim=[-1.5,1.5])"
   ]
  },
  {
   "cell_type": "code",
   "execution_count": null,
   "metadata": {},
   "outputs": [],
   "source": [
    "CMGDB.PlotMorseSets(morse_graph, fig_w=5, fig_h=5,morse_nodes=[0,1,2],ylim=[-1.5,1.5],xlim=[-1.5,1.5])"
   ]
  },
  {
   "cell_type": "code",
   "execution_count": null,
   "metadata": {},
   "outputs": [],
   "source": [
    "CMGDB.PlotMorseSets(morse_graph, fig_w=5, fig_h=5,morse_nodes=[0,1,2],ylim=[-1.5,1.5],xlim=[-1.5,1.5],proj_dims=[2,3])"
   ]
  },
  {
   "cell_type": "code",
   "execution_count": null,
   "metadata": {},
   "outputs": [],
   "source": []
  }
 ],
 "metadata": {
  "colab": {
   "provenance": []
  },
  "kernelspec": {
   "display_name": "Python 3",
   "language": "python",
   "name": "python3"
  },
  "language_info": {
   "codemirror_mode": {
    "name": "ipython",
    "version": 3
   },
   "file_extension": ".py",
   "mimetype": "text/x-python",
   "name": "python",
   "nbconvert_exporter": "python",
   "pygments_lexer": "ipython3",
   "version": "3.9.21"
  }
 },
 "nbformat": 4,
 "nbformat_minor": 4
}
